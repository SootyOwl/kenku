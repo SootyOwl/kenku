{
 "cells": [
  {
   "attachments": {},
   "cell_type": "markdown",
   "metadata": {},
   "source": [
    "Experiments with splitting markdown documents into logical units."
   ]
  },
  {
   "cell_type": "code",
   "execution_count": null,
   "metadata": {},
   "outputs": [],
   "source": [
    "with open(\"tmp/dnd-notes-main/Factions/The Institute.md\", \"r\") as f:\n",
    "    lines = f.readlines()\n",
    "\n",
    "# Remove YAML frontmatter from beginning of file\n",
    "frontmatter_end = lines.index(\"---\\n\", 1) + 1 if \"---\\n\" in lines else 0\n",
    "lines = lines[frontmatter_end:]"
   ]
  },
  {
   "cell_type": "code",
   "execution_count": null,
   "metadata": {},
   "outputs": [],
   "source": [
    "sections = {}\n",
    "current_section = \"\"\n",
    "paragraphs = []\n",
    "\n",
    "for line in lines:\n",
    "    if line.startswith(\"#\"):\n",
    "        if current_section:\n",
    "            sections[current_section.strip()] = paragraphs\n",
    "            current_section = \"\"\n",
    "            paragraphs = []\n",
    "        current_section = line.strip()\n",
    "    else:\n",
    "        if not current_section:\n",
    "            continue\n",
    "        if line.strip() == \"\":\n",
    "            continue\n",
    "        paragraphs.append(line.strip())\n",
    "\n",
    "if current_section and paragraphs:\n",
    "    sections[current_section.strip()] = paragraphs\n",
    "\n",
    "import pprint\n",
    "pprint.pprint(sections)"
   ]
  },
  {
   "attachments": {},
   "cell_type": "markdown",
   "metadata": {},
   "source": [
    "The above code splits the markdown document by heading, however nested headings are not handled. At this stage, I'm unsure if nested headings are useful for this tool.\n",
    "\n",
    "To handle nested headings, we need to keep track of the current heading level. We can do this by keeping track of the number of hashes in the heading."
   ]
  },
  {
   "cell_type": "code",
   "execution_count": null,
   "metadata": {},
   "outputs": [],
   "source": [
    "# Modify the above code to nest the sections in the same way as the original file based on the number of # in the section header\n",
    "sections_dict = {}\n",
    "\n",
    "for section in sections:\n",
    "    if section.count(\"#\") == 1:\n",
    "        sections_dict[section] = sections[section]\n",
    "    else:\n",
    "        # Find the parent section\n",
    "        parent_section = section[:section.rfind(\"#\")]\n",
    "        if parent_section not in sections_dict:\n",
    "            sections_dict[parent_section] = {}\n",
    "        sections_dict[parent_section][section] = sections[section]\n",
    "\n",
    "pprint.pprint(sections_dict)"
   ]
  },
  {
   "attachments": {},
   "cell_type": "markdown",
   "metadata": {},
   "source": [
    "## Attempt to use pandoc to split markdown\n",
    "\n",
    "I now use the pandoc library to handle the markdown parsing."
   ]
  },
  {
   "cell_type": "code",
   "execution_count": 1,
   "metadata": {},
   "outputs": [],
   "source": [
    "import pandoc\n",
    "import pprint\n",
    "\n",
    "with open(\"tmp/dnd-notes-main/Factions/The Institute.md\", \"r\") as f:\n",
    "    doc = pandoc.read(file=f, format=\"markdown\")"
   ]
  },
  {
   "cell_type": "code",
   "execution_count": 3,
   "metadata": {},
   "outputs": [
    {
     "name": "stdout",
     "output_type": "stream",
     "text": [
      "{'History': [\"The Institute's presence on the Menagerie Coast is part of a trade agreement between the Dwendalian Empire and the Clovis Concord. As far as the Concord know, the Hearthstar Peaks \"\n",
      "             \"facility's purpose is research on the peculiar arcane fire which alights the highest peak. Their true purpose remains a secret even to their own emperor, he believes they are working \"\n",
      "             'on a weapon.'],\n",
      " 'Key Figures': ['Archmagus Syrus: Syrus is the leader of the Institute and the most powerful spellcaster among their ranks. He is a master of arcane magic and has a deep understanding of the other '\n",
      "                 'planes. He is cunning and ruthless, and will stop at nothing to achieve the goals of the Institute.',\n",
      "                 \"Yef Golbloom: Golbloom is a sinister therapist and interrogator who is responsible for conducting interviews with the Institute's experiments. He is skilled in the art of \"\n",
      "                 \"persuasion and manipulation, and is able to extract valuable information from the Institute's subjects.\",\n",
      "                 'Lady Arin: Arin is the chief researcher of the Institute and is responsible for their experiments and discoveries. She is a brilliant scientist and alchemist, able to create '\n",
      "                 'powerful potions and magical items. She is also a skilled diviner, able to see into the future and predict potential threats to the Institute.',\n",
      "                 'Master Thaddeus: Thaddeus is the chief architect of the Institute and is responsible for designing and maintaining their facilities. He is a skilled engineer and craftsman, able to '\n",
      "                 'construct intricate and powerful magical devices. He is also a gifted enchanter, able to imbue objects with powerful magical properties.',\n",
      "                 \"Agent Varis: Varis is a covert operative and spy for the Institute. She is skilled in infiltration, assassination, and sabotage, and is able to carry out the Institute's orders \"\n",
      "                 'without being detected. She is also a gifted illusionist, able to create powerful disguises and decoys to deceive her enemies.'],\n",
      " 'Krav': [\"It's likely that Krav's transformation was caused by the Institute's experimentation on him. They may have been attempting to fuse the power of the Infernal and the Abyssal planes into a \"\n",
      "          \"single being. The fact that Krav's soul is now connected to both planes suggests that their experiment was successful in some ways, but also unstable. It's possible that Krav's presence \"\n",
      "          'near the Planar Seal has caused it to weaken even further, allowing rifts to other planes to open up.'],\n",
      " 'Motivations': [\"It's possible that the Institute was experimenting on Krav and other beings with connections to other planes in order to harness their powers for their own use. The Institute is \"\n",
      "                 \"known for their research and experimentation on magical phenomena, so it's likely that they saw the potential for great power in beings with connections to other planes. They may \"\n",
      "                 'have been attempting to create powerful weapons or even build a powerful army of beings with connections to other planes. However, their experiments may have had unforeseen '\n",
      "                 \"consequences, such as the damage to the Planar Seal and the instability of Krav's transformation.\",\n",
      "                 '1.  The Institute may be attempting to discover the secrets of the other planes in order to gain knowledge and power that is not available on the Prime Material plane.',\n",
      "                 '2.  They may be seeking to learn how to control or manipulate the beings from the other planes, in order to gain allies or gain an advantage in potential future conflicts.',\n",
      "                 '3.  The Institute may be attempting to create a means of travel between the planes, in order to access new resources or territories.',\n",
      "                 '4.  They may be seeking to prevent the other planes from interfering with the Prime Material plane, in order to maintain their own power and influence.',\n",
      "                 '5.  The Institute may be attempting to appease or gain favor from powerful beings from the other planes, in order to gain access to their knowledge or power.'],\n",
      " 'Next Steps': [\"After the explosion at the Institute's facility in the Hearthstar Peaks, it's likely that they would focus on rebuilding and regrouping. They may try to cover up the incident and \"\n",
      "                'keep it a secret, in order to prevent any backlash from the other factions on the Menagerie Coast or from the beings from the other planes. They may also try to track down Krav and '\n",
      "                \"any other survivors of the explosion in order to retrieve any information or research that was lost in the explosion. The Institute is a secretive group, so it's likely that they \"\n",
      "                'would be cautious and strategic in their next steps.'],\n",
      " 'Rungaa': [\"As for the wizard of Darktow, it's possible that they were once a member of the Institute and either left or was forced out. They may have knowledge of the Institute's experiments and \"\n",
      "            'be able to provide more information to Krav about his transformation. However, they may also be unwilling to reveal too much, as the Institute is a secretive group and they may fear '\n",
      "            'retaliation.'],\n",
      " 'The Institute': ['-   An arcane institute dedicated to the knowledge and research into the arcane',\n",
      "                   '-   Facility in the \\\\[\\\\[Hearthstar Peaks\\\\]\\\\] exploded when \\\\[\\\\[Krav Maharashtra\\\\]\\\\] was changed into an \\\\[\\\\[abyssal tiefling\\\\]\\\\]',\n",
      "                   '-   they had many other prisoners, various races (possibly those planar races? such as genasi, aasimar, tiefling, shadar-kai, eladrin or some other fey race',\n",
      "                   '    -   all \"kidnapped\" children from around the continent',\n",
      "                   '    -   the institute is trying to use them to open a portal to other planes or something like that',\n",
      "                   '    -   something something \\\\[\\\\[Planar Seal\\\\]\\\\]',\n",
      "                   '-   hubris',\n",
      "                   '-   all \"kidnapped\" children from around the continent',\n",
      "                   '-   the institute is trying to use them to open a portal to other planes or something like that',\n",
      "                   '-   something something \\\\[\\\\[Planar Seal\\\\]\\\\]']}\n"
     ]
    }
   ],
   "source": [
    "from pandoc.types import Header, Para, BulletList, OrderedList\n",
    "\n",
    "def split_doc_by_header(doc, include_orphans=True):\n",
    "    sections = {}\n",
    "    title_str = \"\"\n",
    "    for elt in pandoc.iter(doc):\n",
    "        if elt == doc:\n",
    "            continue\n",
    "        match elt:\n",
    "            case Header(_, _, title):\n",
    "                title_str = pandoc.write(title).strip()\n",
    "                sections[pandoc.write(title).strip()] = []\n",
    "            case Para(x):\n",
    "                if not title_str and include_orphans:\n",
    "                    title_str = \"[No Header]\"\n",
    "                if title_str not in sections and include_orphans:\n",
    "                    sections[title_str] = []\n",
    "                sections[title_str].append(pandoc.write(x, options=[\"--wrap=none\"]).strip())\n",
    "            case BulletList(_) | OrderedList(_):\n",
    "                if not title_str and include_orphans:\n",
    "                    title_str = \"[No Header]\"\n",
    "                if title_str not in sections and include_orphans:\n",
    "                    sections[title_str] = []\n",
    "                # split the list on newlines\n",
    "                list_str = pandoc.write(elt, options=[\"--wrap=none\"])\n",
    "                list_items = list_str.splitlines()\n",
    "                sections[title_str].extend(list_items)\n",
    "    return sections\n",
    "\n",
    "pprint.pprint(split_doc_by_header(doc), width=200)"
   ]
  }
 ],
 "metadata": {
  "kernelspec": {
   "display_name": "dnd-note-tool-z5HkzLi6-py3.10",
   "language": "python",
   "name": "python3"
  },
  "language_info": {
   "codemirror_mode": {
    "name": "ipython",
    "version": 3
   },
   "file_extension": ".py",
   "mimetype": "text/x-python",
   "name": "python",
   "nbconvert_exporter": "python",
   "pygments_lexer": "ipython3",
   "version": "3.10.6"
  },
  "orig_nbformat": 4
 },
 "nbformat": 4,
 "nbformat_minor": 2
}
