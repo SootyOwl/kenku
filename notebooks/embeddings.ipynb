{
 "cells": [
  {
   "attachments": {},
   "cell_type": "markdown",
   "metadata": {},
   "source": [
    "# Create embeddings for a set of markdown documents given the containing folder"
   ]
  },
  {
   "cell_type": "code",
   "execution_count": 1,
   "metadata": {},
   "outputs": [],
   "source": [
    "import os\n",
    "import openai\n",
    "import pandas as pd\n",
    "import tiktoken\n",
    "import glob"
   ]
  },
  {
   "cell_type": "code",
   "execution_count": 2,
   "metadata": {},
   "outputs": [],
   "source": [
    "%load_ext dotenv\n",
    "%dotenv"
   ]
  },
  {
   "cell_type": "code",
   "execution_count": 3,
   "metadata": {},
   "outputs": [],
   "source": [
    "openai.api_key = os.getenv(\"OPENAI_API_KEY\")\n",
    "assert openai.api_key is not None"
   ]
  },
  {
   "attachments": {},
   "cell_type": "markdown",
   "metadata": {},
   "source": [
    "Define a function to read all the markdown files in a folder and return their contents:"
   ]
  },
  {
   "cell_type": "code",
   "execution_count": 4,
   "metadata": {},
   "outputs": [],
   "source": [
    "def read_markdown_files(folder_path):\n",
    "    \"\"\"Read all markdown files in a folder (with possible sub-folders) and return a dataframe with the file name and content.\"\"\"\n",
    "    files = glob.glob(f\"{folder_path}/**/*.md\", recursive=True)\n",
    "    file_names = [os.path.basename(file) for file in files]\n",
    "    file_contents = [open(file, \"r\").read() for file in files]\n",
    "    return pd.DataFrame({\"file_name\": file_names, \"content\": file_contents})\n"
   ]
  },
  {
   "attachments": {},
   "cell_type": "markdown",
   "metadata": {},
   "source": [
    "Prepare the data for the embedding model:"
   ]
  },
  {
   "cell_type": "code",
   "execution_count": 5,
   "metadata": {},
   "outputs": [],
   "source": [
    "from openai.embeddings_utils import get_embedding\n",
    "\n",
    "EMBEDDINGS_MODEL = \"text-embedding-ada-002\"\n",
    "EMBEDDINGS_ENCODING = \"cl100k_base\"  # encoding for ada-002\n",
    "EMBEDDINGS_MAX_TOKENS = 8000  # max tokens for ada-002\n",
    "\n",
    "encoding = tiktoken.get_encoding(EMBEDDINGS_ENCODING)\n",
    "\n",
    "def count_tokens(df) -> pd.DataFrame:\n",
    "    \"\"\"Count the number of tokens in a dataframe column.\"\"\"\n",
    "    df['n_tokens'] = df.content.apply(lambda x: len(encoding.encode(x)))\n",
    "    return df\n",
    "\n",
    "def filter_by_max_tokens(df, max_tokens) -> pd.DataFrame:\n",
    "    \"\"\"Filter a dataframe by the number of tokens in a column.\"\"\"\n",
    "    return df[df.n_tokens <= max_tokens]\n",
    "\n",
    "def filter_empty_content(df) -> pd.DataFrame:\n",
    "    \"\"\"Filter a dataframe by the number of tokens in a column.\"\"\"\n",
    "    return df[df.content != \"\"]\n",
    "\n",
    "def get_embeddings(df) -> pd.DataFrame:\n",
    "    \"\"\"Get embeddings for a dataframe column.\"\"\"\n",
    "    df['embedding'] = df.content.apply(lambda x: get_embedding(text=x, engine=EMBEDDINGS_MODEL))\n",
    "    return df\n"
   ]
  },
  {
   "attachments": {},
   "cell_type": "markdown",
   "metadata": {},
   "source": [
    "Use the functions defined above to create the embeddings:"
   ]
  },
  {
   "cell_type": "code",
   "execution_count": 6,
   "metadata": {},
   "outputs": [
    {
     "data": {
      "text/html": [
       "<div>\n",
       "<style scoped>\n",
       "    .dataframe tbody tr th:only-of-type {\n",
       "        vertical-align: middle;\n",
       "    }\n",
       "\n",
       "    .dataframe tbody tr th {\n",
       "        vertical-align: top;\n",
       "    }\n",
       "\n",
       "    .dataframe thead th {\n",
       "        text-align: right;\n",
       "    }\n",
       "</style>\n",
       "<table border=\"1\" class=\"dataframe\">\n",
       "  <thead>\n",
       "    <tr style=\"text-align: right;\">\n",
       "      <th></th>\n",
       "      <th>file_name</th>\n",
       "      <th>content</th>\n",
       "      <th>n_tokens</th>\n",
       "    </tr>\n",
       "  </thead>\n",
       "  <tbody>\n",
       "    <tr>\n",
       "      <th>0</th>\n",
       "      <td>A letter between an unnamed council member and...</td>\n",
       "      <td>Dear [[Zarina Shadowblade|Ms. Shadowblade]],\\n...</td>\n",
       "      <td>233</td>\n",
       "    </tr>\n",
       "    <tr>\n",
       "      <th>2</th>\n",
       "      <td>Inventor McGee.md</td>\n",
       "      <td>---\\ntype:\\naliases: \\ntags: \\ntitle: Inventor...</td>\n",
       "      <td>107</td>\n",
       "    </tr>\n",
       "    <tr>\n",
       "      <th>3</th>\n",
       "      <td>The Heart of the Sea.md</td>\n",
       "      <td>---\\ntype:\\naliases: \\ntags: \\ntitle: The Hear...</td>\n",
       "      <td>230</td>\n",
       "    </tr>\n",
       "    <tr>\n",
       "      <th>4</th>\n",
       "      <td>The Pirate Queen.md</td>\n",
       "      <td># The Pirate Queen\\n\\nThe Pirate Queen is a go...</td>\n",
       "      <td>1065</td>\n",
       "    </tr>\n",
       "    <tr>\n",
       "      <th>5</th>\n",
       "      <td>The Battle of the Bands.md</td>\n",
       "      <td>---\\ntype: \\naliases: \\ntags: \\ntitle: The Bat...</td>\n",
       "      <td>175</td>\n",
       "    </tr>\n",
       "    <tr>\n",
       "      <th>...</th>\n",
       "      <td>...</td>\n",
       "      <td>...</td>\n",
       "      <td>...</td>\n",
       "    </tr>\n",
       "    <tr>\n",
       "      <th>92</th>\n",
       "      <td>Yevelda.md</td>\n",
       "      <td>**Yevelda.** Half-orc partner of Dockmaster Kr...</td>\n",
       "      <td>26</td>\n",
       "    </tr>\n",
       "    <tr>\n",
       "      <th>93</th>\n",
       "      <td>Naval Combat.md</td>\n",
       "      <td>---\\ntype: notes\\naliases: \\ntags: dnd, combat...</td>\n",
       "      <td>839</td>\n",
       "    </tr>\n",
       "    <tr>\n",
       "      <th>94</th>\n",
       "      <td>Seafaring adventure ideas.md</td>\n",
       "      <td>---\\ntype: \\naliases: \\ntags: dnd, ideas\\ntitl...</td>\n",
       "      <td>246</td>\n",
       "    </tr>\n",
       "    <tr>\n",
       "      <th>95</th>\n",
       "      <td>D&amp;D Campaign Creation - DM's Lair.md</td>\n",
       "      <td>---\\ntype: video-notes\\naliases: \\ntags: dnd, ...</td>\n",
       "      <td>913</td>\n",
       "    </tr>\n",
       "    <tr>\n",
       "      <th>96</th>\n",
       "      <td>adventure ideas.md</td>\n",
       "      <td>---\\ntype: \\naliases: \\ntags: \\ntitle: 'Advent...</td>\n",
       "      <td>57</td>\n",
       "    </tr>\n",
       "  </tbody>\n",
       "</table>\n",
       "<p>88 rows × 3 columns</p>\n",
       "</div>"
      ],
      "text/plain": [
       "                                            file_name  \\\n",
       "0   A letter between an unnamed council member and...   \n",
       "2                                   Inventor McGee.md   \n",
       "3                             The Heart of the Sea.md   \n",
       "4                                 The Pirate Queen.md   \n",
       "5                          The Battle of the Bands.md   \n",
       "..                                                ...   \n",
       "92                                         Yevelda.md   \n",
       "93                                    Naval Combat.md   \n",
       "94                       Seafaring adventure ideas.md   \n",
       "95               D&D Campaign Creation - DM's Lair.md   \n",
       "96                                 adventure ideas.md   \n",
       "\n",
       "                                              content  n_tokens  \n",
       "0   Dear [[Zarina Shadowblade|Ms. Shadowblade]],\\n...       233  \n",
       "2   ---\\ntype:\\naliases: \\ntags: \\ntitle: Inventor...       107  \n",
       "3   ---\\ntype:\\naliases: \\ntags: \\ntitle: The Hear...       230  \n",
       "4   # The Pirate Queen\\n\\nThe Pirate Queen is a go...      1065  \n",
       "5   ---\\ntype: \\naliases: \\ntags: \\ntitle: The Bat...       175  \n",
       "..                                                ...       ...  \n",
       "92  **Yevelda.** Half-orc partner of Dockmaster Kr...        26  \n",
       "93  ---\\ntype: notes\\naliases: \\ntags: dnd, combat...       839  \n",
       "94  ---\\ntype: \\naliases: \\ntags: dnd, ideas\\ntitl...       246  \n",
       "95  ---\\ntype: video-notes\\naliases: \\ntags: dnd, ...       913  \n",
       "96  ---\\ntype: \\naliases: \\ntags: \\ntitle: 'Advent...        57  \n",
       "\n",
       "[88 rows x 3 columns]"
      ]
     },
     "execution_count": 6,
     "metadata": {},
     "output_type": "execute_result"
    }
   ],
   "source": [
    "FOLDER = \"tmp/dnd-notes-main\"\n",
    "df = (\n",
    "    read_markdown_files(FOLDER)\n",
    "    .pipe(filter_empty_content)\n",
    "    .pipe(count_tokens)\n",
    "    .pipe(filter_by_max_tokens, max_tokens=EMBEDDINGS_MAX_TOKENS)\n",
    ")\n",
    "df"
   ]
  },
  {
   "cell_type": "code",
   "execution_count": null,
   "metadata": {},
   "outputs": [],
   "source": [
    "# get embeddings\n",
    "df = get_embeddings(df)\n",
    "# save the dataframe to a csv file for later use\n",
    "save_path = os.path.join(FOLDER, \"embeddings.csv\")\n",
    "df.to_csv(save_path)"
   ]
  }
 ],
 "metadata": {
  "kernelspec": {
   "display_name": "dnd-note-tool-z5HkzLi6-py3.10",
   "language": "python",
   "name": "python3"
  },
  "language_info": {
   "codemirror_mode": {
    "name": "ipython",
    "version": 3
   },
   "file_extension": ".py",
   "mimetype": "text/x-python",
   "name": "python",
   "nbconvert_exporter": "python",
   "pygments_lexer": "ipython3",
   "version": "3.10.6"
  },
  "orig_nbformat": 4
 },
 "nbformat": 4,
 "nbformat_minor": 2
}
