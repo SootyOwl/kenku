{
 "cells": [
  {
   "attachments": {},
   "cell_type": "markdown",
   "metadata": {},
   "source": [
    "# Use embeddings to search the dataset with a query string"
   ]
  },
  {
   "cell_type": "code",
   "execution_count": 1,
   "metadata": {},
   "outputs": [],
   "source": [
    "import os\n",
    "import pandas as pd\n",
    "import openai\n",
    "from openai.embeddings_utils import get_embedding, cosine_similarity"
   ]
  },
  {
   "cell_type": "code",
   "execution_count": 2,
   "metadata": {},
   "outputs": [],
   "source": [
    "%load_ext dotenv\n",
    "%dotenv"
   ]
  },
  {
   "cell_type": "code",
   "execution_count": 3,
   "metadata": {},
   "outputs": [],
   "source": [
    "openai.api_key = os.getenv(\"OPENAI_API_KEY\")\n",
    "assert openai.api_key is not None"
   ]
  },
  {
   "attachments": {},
   "cell_type": "markdown",
   "metadata": {},
   "source": [
    "Load the dataset and the embeddings:"
   ]
  },
  {
   "cell_type": "code",
   "execution_count": 4,
   "metadata": {},
   "outputs": [],
   "source": [
    "import numpy as np\n",
    "\n",
    "def load_df(folder_path, file_name) -> pd.DataFrame:\n",
    "    \"\"\"Load dataset from a csv file into a pandas DataFrame. Ensure the types are correct.\n",
    "    \n",
    "    Expected columns:\n",
    "    - index: int\n",
    "    - file_name: str\n",
    "    - content: str\n",
    "    - combined: str\n",
    "    - n_tokens: int\n",
    "    - embedding: np.ndarray\n",
    "    \"\"\"\n",
    "    df = pd.read_csv(os.path.join(folder_path, file_name))\n",
    "    df[\"n_tokens\"] = df[\"n_tokens\"].astype(int)\n",
    "    df[\"embedding\"] = df.embedding.apply(eval).apply(np.array)\n",
    "    return df"
   ]
  },
  {
   "cell_type": "code",
   "execution_count": 5,
   "metadata": {},
   "outputs": [
    {
     "data": {
      "text/html": [
       "<div>\n",
       "<style scoped>\n",
       "    .dataframe tbody tr th:only-of-type {\n",
       "        vertical-align: middle;\n",
       "    }\n",
       "\n",
       "    .dataframe tbody tr th {\n",
       "        vertical-align: top;\n",
       "    }\n",
       "\n",
       "    .dataframe thead th {\n",
       "        text-align: right;\n",
       "    }\n",
       "</style>\n",
       "<table border=\"1\" class=\"dataframe\">\n",
       "  <thead>\n",
       "    <tr style=\"text-align: right;\">\n",
       "      <th></th>\n",
       "      <th>filename</th>\n",
       "      <th>heading</th>\n",
       "      <th>content</th>\n",
       "      <th>combined</th>\n",
       "      <th>n_tokens</th>\n",
       "      <th>embedding</th>\n",
       "    </tr>\n",
       "  </thead>\n",
       "  <tbody>\n",
       "    <tr>\n",
       "      <th>0</th>\n",
       "      <td>Paladin.md</td>\n",
       "      <td>Class Features</td>\n",
       "      <td>As a paladin, you gain the following class fea...</td>\n",
       "      <td>Paladin.md:Class Features\\nAs a paladin, you g...</td>\n",
       "      <td>19</td>\n",
       "      <td>[0.0018332210602238774, -0.021341584622859955,...</td>\n",
       "    </tr>\n",
       "    <tr>\n",
       "      <th>1</th>\n",
       "      <td>Paladin.md</td>\n",
       "      <td>Hit Points</td>\n",
       "      <td>**Hit Dice:** 1d10 per paladin level\\n**Hit Po...</td>\n",
       "      <td>Paladin.md:Hit Points\\n**Hit Dice:** 1d10 per ...</td>\n",
       "      <td>64</td>\n",
       "      <td>[0.00903189368546009, -0.009907001629471779, 0...</td>\n",
       "    </tr>\n",
       "    <tr>\n",
       "      <th>2</th>\n",
       "      <td>Paladin.md</td>\n",
       "      <td>Proficiencies</td>\n",
       "      <td>**Armor:** All armor, shields\\n**Weapons:** Si...</td>\n",
       "      <td>Paladin.md:Proficiencies\\n**Armor:** All armor...</td>\n",
       "      <td>60</td>\n",
       "      <td>[0.010927453637123108, 6.236664194148034e-05, ...</td>\n",
       "    </tr>\n",
       "    <tr>\n",
       "      <th>3</th>\n",
       "      <td>Paladin.md</td>\n",
       "      <td>Equipment</td>\n",
       "      <td>You start with the following equipment, in add...</td>\n",
       "      <td>Paladin.md:Equipment\\nYou start with the follo...</td>\n",
       "      <td>821</td>\n",
       "      <td>[0.018981102854013443, -0.0007141521782614291,...</td>\n",
       "    </tr>\n",
       "    <tr>\n",
       "      <th>4</th>\n",
       "      <td>Paladin.md</td>\n",
       "      <td>Divine Sense</td>\n",
       "      <td>The presence of strong evil registers on your ...</td>\n",
       "      <td>Paladin.md:Divine Sense\\nThe presence of stron...</td>\n",
       "      <td>188</td>\n",
       "      <td>[0.031038733199238777, -0.004664028529077768, ...</td>\n",
       "    </tr>\n",
       "  </tbody>\n",
       "</table>\n",
       "</div>"
      ],
      "text/plain": [
       "     filename         heading  \\\n",
       "0  Paladin.md  Class Features   \n",
       "1  Paladin.md      Hit Points   \n",
       "2  Paladin.md   Proficiencies   \n",
       "3  Paladin.md       Equipment   \n",
       "4  Paladin.md    Divine Sense   \n",
       "\n",
       "                                             content  \\\n",
       "0  As a paladin, you gain the following class fea...   \n",
       "1  **Hit Dice:** 1d10 per paladin level\\n**Hit Po...   \n",
       "2  **Armor:** All armor, shields\\n**Weapons:** Si...   \n",
       "3  You start with the following equipment, in add...   \n",
       "4  The presence of strong evil registers on your ...   \n",
       "\n",
       "                                            combined  n_tokens  \\\n",
       "0  Paladin.md:Class Features\\nAs a paladin, you g...        19   \n",
       "1  Paladin.md:Hit Points\\n**Hit Dice:** 1d10 per ...        64   \n",
       "2  Paladin.md:Proficiencies\\n**Armor:** All armor...        60   \n",
       "3  Paladin.md:Equipment\\nYou start with the follo...       821   \n",
       "4  Paladin.md:Divine Sense\\nThe presence of stron...       188   \n",
       "\n",
       "                                           embedding  \n",
       "0  [0.0018332210602238774, -0.021341584622859955,...  \n",
       "1  [0.00903189368546009, -0.009907001629471779, 0...  \n",
       "2  [0.010927453637123108, 6.236664194148034e-05, ...  \n",
       "3  [0.018981102854013443, -0.0007141521782614291,...  \n",
       "4  [0.031038733199238777, -0.004664028529077768, ...  "
      ]
     },
     "execution_count": 5,
     "metadata": {},
     "output_type": "execute_result"
    }
   ],
   "source": [
    "# FOLDER = \"tmp/dnd-notes-main\"\n",
    "FOLDER = \"/home/tyto/Documents/dnd/DND.SRD.Wiki-0.5.1/\"\n",
    "df = load_df(FOLDER, \"embeddings-sections.csv\")\n",
    "df.head()"
   ]
  },
  {
   "cell_type": "code",
   "execution_count": 6,
   "metadata": {},
   "outputs": [],
   "source": [
    "EMBEDDINGS_MODEL = \"text-embedding-ada-002\"\n",
    "\n",
    "def search_df(df, query, filter=None, top_n: int=10) -> pd.DataFrame:\n",
    "    query_embedding = get_embedding(query, engine=EMBEDDINGS_MODEL)\n",
    "    df = df.copy()\n",
    "    if filter is not None:\n",
    "        df = df[df.filename.apply(filter)]\n",
    "    df[\"similarity\"] = df.embedding.apply(\n",
    "        lambda x: cosine_similarity(query_embedding, x)\n",
    "    )\n",
    "    return df.sort_values(\"similarity\", ascending=False).head(top_n)"
   ]
  },
  {
   "cell_type": "code",
   "execution_count": 7,
   "metadata": {},
   "outputs": [],
   "source": [
    "COMPLETION_MODEL = \"gpt-3.5-turbo\"\n",
    "MAX_TOKENS = 3500  # 4097 is the max, but we want to leave some room for the prompt\n",
    "\n",
    "def generate_answer(prompt, context=None) -> str:\n",
    "    if context is not None:\n",
    "        context_str = \"\\n\".join(context)\n",
    "        prompt_with_context = f\"{prompt}\\n\\nContext:\\n{context_str}\"\n",
    "    else:\n",
    "        prompt_with_context = prompt\n",
    "    try:\n",
    "        response = openai.ChatCompletion.create(\n",
    "            model=COMPLETION_MODEL,\n",
    "            messages=[\n",
    "                {\n",
    "                    \"content\": prompt_with_context,\n",
    "                    \"role\": \"user\",\n",
    "                },\n",
    "            ],\n",
    "        )\n",
    "    except openai.error.InvalidRequestError as e:\n",
    "        print(f\"Error: {e}, prompt: {prompt_with_context}, context: {context}\")\n",
    "        return \"\"\n",
    "    return response.choices[0].message.content.strip()\n",
    "\n",
    "def generate_answer_with_search(prompt, top_n: int = 5, show_included=False) -> str:\n",
    "    context_df = search_df(df, prompt, top_n=top_n)\n",
    "    context = trim_context(prompt, context_df).combined\n",
    "    if show_included:\n",
    "        # show the included context\n",
    "        print(\"Included context: \" + '\\n'.join(context_df.filename + context_df.heading + context_df.similarity.apply(str)))\n",
    "    return generate_answer(prompt, context)\n",
    "\n",
    "import tiktoken\n",
    "encoding = tiktoken.encoding_for_model(COMPLETION_MODEL)\n",
    "\n",
    "def trim_context(prompt, context: pd.DataFrame):\n",
    "    \"\"\"Trim context to fit within the max tokens.\"\"\"\n",
    "    prompt_tokens = encoding.encode(prompt)\n",
    "    # ensure context is sorted by similarity\n",
    "    context = context.sort_values(\"similarity\", ascending=False)\n",
    "    # trim context to fit within MAX_TOKENS\n",
    "    context_tokens = len(prompt_tokens)\n",
    "    for i, row in enumerate(context.iterrows()):\n",
    "        _, row = row\n",
    "        tokens = len(encoding.encode(row.combined))\n",
    "        if context_tokens + tokens > MAX_TOKENS:\n",
    "            context = context.iloc[:i - 1]\n",
    "            break\n",
    "        context_tokens += tokens\n",
    "    return context"
   ]
  },
  {
   "cell_type": "code",
   "execution_count": 14,
   "metadata": {},
   "outputs": [
    {
     "name": "stdout",
     "output_type": "stream",
     "text": [
      "Included context: Legend Lore.mdLegend Lore0.8282462080328881\n",
      "# Monster Statistics.mdA Legendary Creature's Lair0.8277920096890437\n",
      "# Monster Statistics.mdLegendary Creatures0.8180924857981615\n",
      "# Spellcasting.mdSPELLCASTING0.8128123544261647\n",
      "# Monster Statistics.mdSpellcasting0.8122918715921268\n",
      "Ring of Spell Turning.mdRing of Spell Turning0.8114901333387204\n",
      "Bard.mdRitual Casting0.8109401658329012\n",
      "# Spellcasting.mdCasting a Spell0.8100590903287319\n",
      "Robe of the Archmagi.mdRobe of the Archmagi0.8087173343407306\n",
      "Commune with Nature.mdCommune with Nature0.8084635663105468\n",
      "Sorcerer.mdSorcerous Origin0.8077411046332814\n",
      "Ranger.mdSpellcasting0.8073649321335876\n",
      "Spell Scroll.mdSpell Scroll0.8061377090995736\n",
      "Bard.mdMagical Secrets0.8060528813956777\n",
      "Warlock.mdBook of Ancient Secrets0.8059130962478845\n",
      "Ranger.mdPrimeval Awareness0.8055250831625166\n",
      "Bard.mdBard College0.8042201417947717\n",
      "Warlock.mdPact of the Tome0.8041390964383894\n",
      "Ring of Three Wishes.mdRing of Three Wishes0.8029386232296213\n",
      "# Monster Statistics.mdLair Actions0.8021748887943427\n",
      "Ring of Spell Storing.mdRing of Spell Storing0.8021591553149631\n",
      "Contact Other Plane.mdContact Other Plane0.8021501814478107\n",
      "Deck of Many Things.mdDeck of Many Things0.8018065578243633\n",
      "Rod of Lordly Might.mdRod of Lordly Might0.8017929386705174\n",
      "# Monster Statistics.mdRegional Effects0.801719961235908\n",
      "Wizard.mdSpellcasting0.8009178040768957\n",
      "# Monster Statistics.mdInnate Spellcasting0.8007949747621316\n",
      "Augury.mdAugury0.8007679612678887\n",
      "Sorcerer.mdEquipment0.8007590289387481\n",
      "Comprehend Languages.mdComprehend Languages0.8001638763780878\n",
      "Find the Path.mdFind the Path0.8000724023559833\n",
      "Zone of Truth.mdZone of Truth0.7994944810481905\n",
      "Divination.mdDivination0.7994403584868245\n",
      "## Spell Lists (Wikilinked).mdSPELL LISTS (Alternate)0.7993914918323232\n",
      "Sprite.mdActions0.7987709403549776\n",
      "Haste.mdHaste0.798567190792316\n",
      "Detect Magic.mdDetect Magic0.7983679376472641\n",
      "# Spellcasting.mdRituals0.7978017000344327\n",
      "Phantom Steed.mdPhantom Steed0.797780313206288\n",
      "Sorcerer.mdSpells Known of 1st Level and Higher0.7975731782420614\n",
      "Wizard.mdRitual Casting0.7975680180868624\n",
      "# Monster Statistics.mdPsionics0.7970789182698067\n",
      "Holy Avenger.mdHoly Avenger0.7969705471001937\n",
      "Druid.mdRitual Casting0.7967651841755448\n",
      "Sorcerer.mdClass Features0.7967418308070285\n",
      "Sorcerer.mdDraconic Presence0.7966030356030536\n",
      "Wizard.mdEquipment0.7965717156129414\n",
      "Ranger.mdSpells Known of 1st Level and Higher0.7963512394110256\n",
      "Sorcerer.mdElemental Affinity0.7963021671747875\n",
      "Plate Armor of Etherealness.mdPlate Armor of Etherealness0.7962177099009492\n"
     ]
    },
    {
     "data": {
      "text/markdown": [
       "**Is the spell Legend Lore in the SRD?**\n",
       "\n",
       "Yes, the spell Legend Lore is in the SRD."
      ],
      "text/plain": [
       "<IPython.core.display.Markdown object>"
      ]
     },
     "execution_count": 14,
     "metadata": {},
     "output_type": "execute_result"
    }
   ],
   "source": [
    "query = \"Is the spell Legend Lore in the SRD?\"\n",
    "response = generate_answer_with_search(query, top_n=50, show_included=True)\n",
    "from IPython.display import Markdown\n",
    "Markdown(f\"**{query}**\\n\\n{response}\")"
   ]
  }
 ],
 "metadata": {
  "kernelspec": {
   "display_name": "dnd-note-tool-z5HkzLi6-py3.10",
   "language": "python",
   "name": "python3"
  },
  "language_info": {
   "codemirror_mode": {
    "name": "ipython",
    "version": 3
   },
   "file_extension": ".py",
   "mimetype": "text/x-python",
   "name": "python",
   "nbconvert_exporter": "python",
   "pygments_lexer": "ipython3",
   "version": "3.10.6"
  },
  "orig_nbformat": 4
 },
 "nbformat": 4,
 "nbformat_minor": 2
}
